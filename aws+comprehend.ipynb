{
 "cells": [
  {
   "cell_type": "code",
   "execution_count": 1,
   "metadata": {
    "collapsed": true
   },
   "outputs": [],
   "source": [
    "import pandas as pd\n",
    "import boto3\n",
    "\n",
    "##!pip install simplejson\n",
    "import simplejson as json"
   ]
  },
  {
   "cell_type": "code",
   "execution_count": 2,
   "metadata": {
    "collapsed": true
   },
   "outputs": [],
   "source": [
    "comprehend = boto3.client(service_name=\"comprehend\", region_name='us-east-1')"
   ]
  },
  {
   "cell_type": "code",
   "execution_count": 3,
   "metadata": {},
   "outputs": [
    {
     "name": "stdout",
     "output_type": "stream",
     "text": [
      "Starting Sentiment Analysis\n",
      "{\n",
      "    \"ResponseMetadata\": {\n",
      "        \"HTTPHeaders\": {\n",
      "            \"connection\": \"keep-alive\",\n",
      "            \"content-length\": \"164\",\n",
      "            \"content-type\": \"application/x-amz-json-1.1\",\n",
      "            \"date\": \"Sun, 11 Mar 2018 04:10:08 GMT\",\n",
      "            \"x-amzn-requestid\": \"15f2ea12-24e2-11e8-bced-3570701cb7e3\"\n",
      "        },\n",
      "        \"HTTPStatusCode\": 200,\n",
      "        \"RequestId\": \"15f2ea12-24e2-11e8-bced-3570701cb7e3\",\n",
      "        \"RetryAttempts\": 0\n",
      "    },\n",
      "    \"Sentiment\": \"POSITIVE\",\n",
      "    \"SentimentScore\": {\n",
      "        \"Mixed\": 0.004164810758084059,\n",
      "        \"Negative\": 0.0009366397280246019,\n",
      "        \"Neutral\": 0.06269783526659012,\n",
      "        \"Positive\": 0.9322006702423096\n",
      "    }\n",
      "}\n",
      "The Sentiment Analysis is done\n"
     ]
    }
   ],
   "source": [
    "## Testing a text\n",
    "\n",
    "text = \"I love you. Will you marry me?\"\n",
    "print(\"Starting Sentiment Analysis\")\n",
    "print(json.dumps(comprehend.detect_sentiment(Text=text, LanguageCode='en'), sort_keys=True, indent=4))\n",
    "print(\"The Sentiment Analysis is done\")"
   ]
  },
  {
   "cell_type": "code",
   "execution_count": 4,
   "metadata": {
    "collapsed": true
   },
   "outputs": [],
   "source": [
    "## Sentiment Analysis of the movie review (just one line)\n",
    "path = \"/Users/ky/Desktop/UCD MSBA/Quarters/Winter 17/BAX 452 - Machine Learning/Assignments/9th Assignment, Mar 10, 2018/txt_sentoken/neg/cv000_29416.txt\"\n",
    "doc1 = open(path, \"r\")\n",
    "output1 = doc1.readlines()"
   ]
  },
  {
   "cell_type": "code",
   "execution_count": 5,
   "metadata": {},
   "outputs": [
    {
     "data": {
      "text/plain": [
       "'one of the guys dies , but his girlfriend continues to see him in her life , and has nightmares . \\n'"
      ]
     },
     "execution_count": 5,
     "metadata": {},
     "output_type": "execute_result"
    }
   ],
   "source": [
    "output1[2]"
   ]
  },
  {
   "cell_type": "code",
   "execution_count": 6,
   "metadata": {},
   "outputs": [
    {
     "name": "stdout",
     "output_type": "stream",
     "text": [
      "{\n",
      "    \"ResponseMetadata\": {\n",
      "        \"HTTPHeaders\": {\n",
      "            \"connection\": \"keep-alive\",\n",
      "            \"content-length\": \"158\",\n",
      "            \"content-type\": \"application/x-amz-json-1.1\",\n",
      "            \"date\": \"Sun, 11 Mar 2018 04:10:08 GMT\",\n",
      "            \"x-amzn-requestid\": \"16371f3b-24e2-11e8-ad19-63ebbbebc655\"\n",
      "        },\n",
      "        \"HTTPStatusCode\": 200,\n",
      "        \"RequestId\": \"16371f3b-24e2-11e8-ad19-63ebbbebc655\",\n",
      "        \"RetryAttempts\": 0\n",
      "    },\n",
      "    \"Sentiment\": \"NEUTRAL\",\n",
      "    \"SentimentScore\": {\n",
      "        \"Mixed\": 0.1490383893251419,\n",
      "        \"Negative\": 0.3341641128063202,\n",
      "        \"Neutral\": 0.468740850687027,\n",
      "        \"Positive\": 0.04805663228034973\n",
      "    }\n",
      "}\n"
     ]
    }
   ],
   "source": [
    "print(json.dumps(comprehend.detect_sentiment(Text=output1[2], LanguageCode='en'), sort_keys=True, indent=4))"
   ]
  },
  {
   "cell_type": "code",
   "execution_count": 7,
   "metadata": {
    "collapsed": true
   },
   "outputs": [],
   "source": [
    "## Whole document\n",
    "whole_doc = \", \".join(map(str, output1))"
   ]
  },
  {
   "cell_type": "code",
   "execution_count": 8,
   "metadata": {},
   "outputs": [
    {
     "name": "stdout",
     "output_type": "stream",
     "text": [
      "{\n",
      "    \"ResponseMetadata\": {\n",
      "        \"HTTPHeaders\": {\n",
      "            \"connection\": \"keep-alive\",\n",
      "            \"content-length\": \"158\",\n",
      "            \"content-type\": \"application/x-amz-json-1.1\",\n",
      "            \"date\": \"Sun, 11 Mar 2018 04:10:09 GMT\",\n",
      "            \"x-amzn-requestid\": \"165a1049-24e2-11e8-846c-8318cd5d2a9f\"\n",
      "        },\n",
      "        \"HTTPStatusCode\": 200,\n",
      "        \"RequestId\": \"165a1049-24e2-11e8-846c-8318cd5d2a9f\",\n",
      "        \"RetryAttempts\": 0\n",
      "    },\n",
      "    \"Sentiment\": \"MIXED\",\n",
      "    \"SentimentScore\": {\n",
      "        \"Mixed\": 0.48351600766181946,\n",
      "        \"Negative\": 0.2868672013282776,\n",
      "        \"Neutral\": 0.12633098661899567,\n",
      "        \"Positive\": 0.1032857820391655\n",
      "    }\n",
      "}\n"
     ]
    }
   ],
   "source": [
    "print(json.dumps(comprehend.detect_sentiment(Text=whole_doc, LanguageCode='en'), sort_keys=True, indent=4))"
   ]
  }
 ],
 "metadata": {
  "kernelspec": {
   "display_name": "Python 3",
   "language": "python",
   "name": "python3"
  },
  "language_info": {
   "codemirror_mode": {
    "name": "ipython",
    "version": 3
   },
   "file_extension": ".py",
   "mimetype": "text/x-python",
   "name": "python",
   "nbconvert_exporter": "python",
   "pygments_lexer": "ipython3",
   "version": "3.6.3"
  }
 },
 "nbformat": 4,
 "nbformat_minor": 2
}
