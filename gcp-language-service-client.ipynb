{
 "cells": [
  {
   "cell_type": "code",
   "execution_count": 1,
   "metadata": {
    "collapsed": true
   },
   "outputs": [],
   "source": [
    "# Importing the Google Cloud client library\n",
    "from google.cloud import language\n",
    "from google.cloud.language import enums\n",
    "from google.cloud.language import types"
   ]
  },
  {
   "cell_type": "code",
   "execution_count": 2,
   "metadata": {
    "collapsed": true
   },
   "outputs": [],
   "source": [
    "## Setting Credentials\n",
    "import os\n",
    "os.environ[\"GOOGLE_APPLICATION_CREDENTIALS\"]=\"/Users/ky/Kemal-Yilmaz-2d8b2409a995.json\""
   ]
  },
  {
   "cell_type": "code",
   "execution_count": 3,
   "metadata": {
    "collapsed": true
   },
   "outputs": [],
   "source": [
    "client = language.LanguageServiceClient()"
   ]
  },
  {
   "cell_type": "code",
   "execution_count": 4,
   "metadata": {
    "collapsed": true
   },
   "outputs": [],
   "source": [
    "## Sentiment Analysis of the movie review (just one line)\n",
    "path = \"/Users/ky/Desktop/UCD MSBA/Quarters/Winter 17/BAX 452 - Machine Learning/Assignments/9th Assignment, Mar 10, 2018/txt_sentoken/neg/cv000_29416.txt\"\n",
    "doc1 = open(path, \"r\",newline=\"\\n\")\n",
    "output1 = doc1.readlines()"
   ]
  },
  {
   "cell_type": "code",
   "execution_count": 5,
   "metadata": {},
   "outputs": [
    {
     "data": {
      "text/plain": [
       "\"now i personally don't mind trying to unravel a film every now and then , but when all it does is give me the same clue over and over again , i get kind of fed up after a while , which is this film's biggest problem . \\n\""
      ]
     },
     "execution_count": 5,
     "metadata": {},
     "output_type": "execute_result"
    }
   ],
   "source": [
    "output1[12]"
   ]
  },
  {
   "cell_type": "code",
   "execution_count": 6,
   "metadata": {
    "collapsed": true
   },
   "outputs": [],
   "source": [
    "document = types.Document(\n",
    "        content=output1[12],\n",
    "        type=enums.Document.Type.PLAIN_TEXT)"
   ]
  },
  {
   "cell_type": "code",
   "execution_count": 7,
   "metadata": {
    "collapsed": true
   },
   "outputs": [],
   "source": [
    "entities = client.analyze_entities(document).entities"
   ]
  },
  {
   "cell_type": "code",
   "execution_count": 8,
   "metadata": {},
   "outputs": [
    {
     "data": {
      "text/plain": [
       "[name: \"problem\"\n",
       "type: OTHER\n",
       "salience: 0.400703489780426\n",
       "mentions {\n",
       "  text {\n",
       "    content: \"problem\"\n",
       "    begin_offset: -1\n",
       "  }\n",
       "  type: COMMON\n",
       "}\n",
       ", name: \"film\"\n",
       "type: WORK_OF_ART\n",
       "salience: 0.34384748339653015\n",
       "mentions {\n",
       "  text {\n",
       "    content: \"film\"\n",
       "    begin_offset: -1\n",
       "  }\n",
       "  type: COMMON\n",
       "}\n",
       ", name: \"clue\"\n",
       "type: OTHER\n",
       "salience: 0.13904614746570587\n",
       "mentions {\n",
       "  text {\n",
       "    content: \"clue\"\n",
       "    begin_offset: -1\n",
       "  }\n",
       "  type: COMMON\n",
       "}\n",
       ", name: \"film\"\n",
       "type: WORK_OF_ART\n",
       "salience: 0.11640289425849915\n",
       "mentions {\n",
       "  text {\n",
       "    content: \"film\"\n",
       "    begin_offset: -1\n",
       "  }\n",
       "  type: COMMON\n",
       "}\n",
       "]"
      ]
     },
     "execution_count": 8,
     "metadata": {},
     "output_type": "execute_result"
    }
   ],
   "source": [
    "entities"
   ]
  }
 ],
 "metadata": {
  "kernelspec": {
   "display_name": "Python 3",
   "language": "python",
   "name": "python3"
  },
  "language_info": {
   "codemirror_mode": {
    "name": "ipython",
    "version": 3
   },
   "file_extension": ".py",
   "mimetype": "text/x-python",
   "name": "python",
   "nbconvert_exporter": "python",
   "pygments_lexer": "ipython3",
   "version": "3.6.3"
  }
 },
 "nbformat": 4,
 "nbformat_minor": 2
}
